{
  "nbformat": 4,
  "nbformat_minor": 0,
  "metadata": {
    "colab": {
      "name": "Project_7_with_udemy_dataset.ipynb",
      "provenance": []
    },
    "kernelspec": {
      "name": "python3",
      "display_name": "Python 3"
    },
    "language_info": {
      "name": "python"
    }
  },
  "cells": [
    {
      "cell_type": "markdown",
      "source": [
        ""
      ],
      "metadata": {
        "id": "h0PJEf7UEy1V"
      }
    },
    {
      "cell_type": "markdown",
      "source": [
        "WORKING WITH THE REAL TIME PROJECT WITH PYTHON ON \"UDEMY COURSES DATASET\"\n",
        "  \n",
        "  \"UDEMY COURSES DATASET\""
      ],
      "metadata": {
        "id": "ethAmkLjE2aE"
      }
    },
    {
      "cell_type": "code",
      "source": [
        "import pandas as pd\n",
        "import seaborn as ans\n",
        "import matplotlib.pyplot as plt\n",
        "import numpy as np\n"
      ],
      "metadata": {
        "id": "OyChiC7_DX4v"
      },
      "execution_count": null,
      "outputs": []
    },
    {
      "cell_type": "code",
      "source": [
        "data = pd.read_csv(r\"/content/7. Udemy Courses.csv\")"
      ],
      "metadata": {
        "id": "nK0SoCrDDlpO"
      },
      "execution_count": null,
      "outputs": []
    },
    {
      "cell_type": "code",
      "source": [
        "data"
      ],
      "metadata": {
        "id": "aCSGrx_UGCu9"
      },
      "execution_count": null,
      "outputs": []
    },
    {
      "cell_type": "code",
      "source": [
        "data.dtypes"
      ],
      "metadata": {
        "id": "toc7MzO8D5UA"
      },
      "execution_count": null,
      "outputs": []
    },
    {
      "cell_type": "code",
      "source": [
        "data.columns"
      ],
      "metadata": {
        "id": "5Zvk6xxzDygU"
      },
      "execution_count": null,
      "outputs": []
    },
    {
      "cell_type": "markdown",
      "source": [
        "Q)1. WHAT ARE ALL DIIFERENT SUBJECT FOR WHICH UDEMY IS OFFERING COURSES ?\n"
      ],
      "metadata": {
        "id": "zIywpv2MFIsj"
      }
    },
    {
      "cell_type": "code",
      "source": [
        "data.subject.unique()"
      ],
      "metadata": {
        "id": "kdTj9-JpENLR"
      },
      "execution_count": null,
      "outputs": []
    },
    {
      "cell_type": "markdown",
      "source": [
        "Q)2. WHICH SUBJECT HAS THE MAXIMUM NUMBER OF COURSES ?"
      ],
      "metadata": {
        "id": "2vwBnLTpFbRU"
      }
    },
    {
      "cell_type": "code",
      "source": [
        "data.subject.value_counts()"
      ],
      "metadata": {
        "id": "1g0liCtHEd1C"
      },
      "execution_count": null,
      "outputs": []
    },
    {
      "cell_type": "markdown",
      "source": [
        "Q)3. SHOW ALL THE COURSES WHICH ARE FREE OF COST"
      ],
      "metadata": {
        "id": "iK_pn_XVFwxY"
      }
    },
    {
      "cell_type": "code",
      "source": [
        "data.columns"
      ],
      "metadata": {
        "id": "SCY5x7l8FP6G"
      },
      "execution_count": null,
      "outputs": []
    },
    {
      "cell_type": "code",
      "source": [
        "data[data[\"is_paid\"] == False]"
      ],
      "metadata": {
        "id": "pL3cw_b_FYRu"
      },
      "execution_count": null,
      "outputs": []
    },
    {
      "cell_type": "code",
      "source": [
        "data[data[\"price\"] == \"Free\"]"
      ],
      "metadata": {
        "id": "c1zZppJqFzPG"
      },
      "execution_count": null,
      "outputs": []
    },
    {
      "cell_type": "markdown",
      "source": [
        "Q)4. HOW ALL THE COURSES WHICH ARE PAID"
      ],
      "metadata": {
        "id": "QKOB7H-bF7f6"
      }
    },
    {
      "cell_type": "code",
      "source": [
        "data[data[\"is_paid\"] == True]"
      ],
      "metadata": {
        "id": "8dYy49ohGg_P"
      },
      "execution_count": null,
      "outputs": []
    },
    {
      "cell_type": "markdown",
      "source": [
        "Q)5. WHICH ARE THE TOP SELLNG COURSES ?"
      ],
      "metadata": {
        "id": "5jrwjVc0GHnE"
      }
    },
    {
      "cell_type": "code",
      "source": [
        "data.columns"
      ],
      "metadata": {
        "id": "JOBeb-QgG90Q"
      },
      "execution_count": null,
      "outputs": []
    },
    {
      "cell_type": "code",
      "source": [
        "data.sort_values(\"num_subscribers\")"
      ],
      "metadata": {
        "id": "q-CrJNoCIFMY"
      },
      "execution_count": null,
      "outputs": []
    },
    {
      "cell_type": "code",
      "source": [
        "data[\"num_subscribers\"].sort_values(ascending = False)"
      ],
      "metadata": {
        "id": "tX1iyIZ_Hjji"
      },
      "execution_count": null,
      "outputs": []
    },
    {
      "cell_type": "markdown",
      "source": [
        "Q)6. WHICH ARE LEAST SELLING COURSES ?"
      ],
      "metadata": {
        "id": "1VXeCkt0GpI9"
      }
    },
    {
      "cell_type": "code",
      "source": [
        "data.sort_values(\"num_subscribers\")"
      ],
      "metadata": {
        "id": "oikMo46xIs52"
      },
      "execution_count": null,
      "outputs": []
    },
    {
      "cell_type": "markdown",
      "source": [
        "SHOW ALL THE COURSES OFGRAPHIC DESIGN WHERE THE PRICE IS BELOW 100 ?"
      ],
      "metadata": {
        "id": "NCkDY6KJG1v9"
      }
    },
    {
      "cell_type": "code",
      "source": [
        "data[(data.subject == \"Graphic Design\") & (data.price < '100')]"
      ],
      "metadata": {
        "id": "ilhiZDhyI-HJ"
      },
      "execution_count": null,
      "outputs": []
    },
    {
      "cell_type": "code",
      "source": [
        "data[(data.subject == \"Graphic Design\") & (data.price == '100')]"
      ],
      "metadata": {
        "id": "QXNqF1yQK6GM"
      },
      "execution_count": null,
      "outputs": []
    },
    {
      "cell_type": "markdown",
      "source": [
        "LIST OUT ALL THE COURSES  THAT ARE RELATED WITH \"PYTHON\" ?"
      ],
      "metadata": {
        "id": "LQf-JobVHIIU"
      }
    },
    {
      "cell_type": "code",
      "source": [
        "data.columns"
      ],
      "metadata": {
        "id": "wpAjItKpLJR6"
      },
      "execution_count": null,
      "outputs": []
    },
    {
      "cell_type": "code",
      "source": [
        "data[data.course_title.str.contains(\"Python\")]"
      ],
      "metadata": {
        "id": "h6xisBnlLCSo"
      },
      "execution_count": null,
      "outputs": []
    },
    {
      "cell_type": "markdown",
      "source": [
        "What are courses hat published in year 2015 ?"
      ],
      "metadata": {
        "id": "kq6Me7Y5HSbw"
      }
    },
    {
      "cell_type": "code",
      "source": [
        "data.columns"
      ],
      "metadata": {
        "id": "IPc02v1kLm4E"
      },
      "execution_count": null,
      "outputs": []
    },
    {
      "cell_type": "code",
      "source": [
        "data[\"published_timestamp\"] == pd.to_datetime(data.published_timestamp)"
      ],
      "metadata": {
        "id": "PiheQ9ArL_1_"
      },
      "execution_count": null,
      "outputs": []
    },
    {
      "cell_type": "code",
      "source": [
        "data[\"Year\"] = data[\"published_timestamp\"].dt.year"
      ],
      "metadata": {
        "id": "BICaeXlWMbOt"
      },
      "execution_count": null,
      "outputs": []
    },
    {
      "cell_type": "code",
      "source": [
        "data[data[\"Year\"] == 2015]"
      ],
      "metadata": {
        "id": "ptYAD9K8LukG"
      },
      "execution_count": null,
      "outputs": []
    },
    {
      "cell_type": "markdown",
      "source": [
        "WHAT ARE THE MAXIMUM NUMBER OF SUBSCRIBER FOR EACH LEVEL OF COURSES ?"
      ],
      "metadata": {
        "id": "rnQ48a6LHzuo"
      }
    },
    {
      "cell_type": "code",
      "source": [
        "data.columns"
      ],
      "metadata": {
        "id": "yN0E2BNgNCy3"
      },
      "execution_count": null,
      "outputs": []
    },
    {
      "cell_type": "code",
      "source": [
        "data.groupby(\"level\")[\"num_subscribers\"].max()"
      ],
      "metadata": {
        "id": "QoWCeV8mM--d"
      },
      "execution_count": null,
      "outputs": []
    },
    {
      "cell_type": "code",
      "source": [
        "data.groupby(\"level\")[\"num_subscribers\"].min()"
      ],
      "metadata": {
        "id": "b294vBGiNj9O"
      },
      "execution_count": null,
      "outputs": []
    },
    {
      "cell_type": "code",
      "source": [
        "data.groupby(\"level\").max()"
      ],
      "metadata": {
        "id": "0-0W_lKCNOdV"
      },
      "execution_count": null,
      "outputs": []
    },
    {
      "cell_type": "code",
      "source": [
        ""
      ],
      "metadata": {
        "id": "uX5T7f5sNcAA"
      },
      "execution_count": null,
      "outputs": []
    }
  ]
}