{
  "nbformat": 4,
  "nbformat_minor": 0,
  "metadata": {
    "colab": {
      "name": "Project7.ipynb",
      "provenance": []
    },
    "kernelspec": {
      "name": "python3",
      "display_name": "Python 3"
    },
    "language_info": {
      "name": "python"
    }
  },
  "cells": [
    {
      "cell_type": "markdown",
      "source": [
        ""
      ],
      "metadata": {
        "id": "h0PJEf7UEy1V"
      }
    },
    {
      "cell_type": "markdown",
      "source": [
        "WORKING WITH THE REAL TIME PROJECT WITH PYTHON ON \"UDEMY COURSES DATASET\"\n",
        "  \n",
        "  \"UDEMY COURSES DATASET\""
      ],
      "metadata": {
        "id": "ethAmkLjE2aE"
      }
    },
    {
      "cell_type": "markdown",
      "source": [
        "Q)1. WHAT ARE ALL DIIFERENT SUBJECT FOR WHICH UDEMY IS OFFERING COURSES ?\n"
      ],
      "metadata": {
        "id": "zIywpv2MFIsj"
      }
    },
    {
      "cell_type": "markdown",
      "source": [
        "Q)2. WHICH SUBJECT HAS THE MAXIMUM NUMBER OF COURSES ?"
      ],
      "metadata": {
        "id": "2vwBnLTpFbRU"
      }
    },
    {
      "cell_type": "markdown",
      "source": [
        "Q)3. SHOW ALL THE COURSES WHICH ARE FREE OF COST"
      ],
      "metadata": {
        "id": "iK_pn_XVFwxY"
      }
    },
    {
      "cell_type": "markdown",
      "source": [
        "Q)4. HOW ALL THE COURSES WHICH ARE PAID"
      ],
      "metadata": {
        "id": "QKOB7H-bF7f6"
      }
    },
    {
      "cell_type": "markdown",
      "source": [
        "Q)5. WHICH ARE THE TOP SELLNG COURSES ?"
      ],
      "metadata": {
        "id": "5jrwjVc0GHnE"
      }
    },
    {
      "cell_type": "markdown",
      "source": [
        "Q)6. WHICH ARE LEAST SELLING COURSES ?"
      ],
      "metadata": {
        "id": "1VXeCkt0GpI9"
      }
    },
    {
      "cell_type": "markdown",
      "source": [
        "SHOW ALL THE COURSES OFGRAPHIC DESIGN WHERE THE PRICE IS BELOW 100 ?"
      ],
      "metadata": {
        "id": "NCkDY6KJG1v9"
      }
    },
    {
      "cell_type": "markdown",
      "source": [
        "LIST OUT ALL THE COURSES  THAT ARE RELATED WITH \"PYTHON\" ?"
      ],
      "metadata": {
        "id": "LQf-JobVHIIU"
      }
    },
    {
      "cell_type": "markdown",
      "source": [
        "What are courses hat published in year 2015 ?"
      ],
      "metadata": {
        "id": "kq6Me7Y5HSbw"
      }
    },
    {
      "cell_type": "markdown",
      "source": [
        "WHAT ARE THE MAXIMUM NUMBER OF SUBSCRIBER FOR EACH LEVEL OF COURSES ?"
      ],
      "metadata": {
        "id": "rnQ48a6LHzuo"
      }
    }
  ]
}